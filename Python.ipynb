{
 "cells": [
  {
   "cell_type": "markdown",
   "metadata": {},
   "source": [
    "# Faktoriyel"
   ]
  },
  {
   "cell_type": "code",
   "execution_count": 112,
   "metadata": {},
   "outputs": [],
   "source": [
    "def factoriyel(n):\n",
    "    if n==0:\n",
    "        return 1\n",
    "    else:\n",
    "        return n*factoriyel(n-1)\n",
    "factoriyel(5)"
   ]
  },
  {
   "cell_type": "code",
   "execution_count": 113,
   "metadata": {},
   "outputs": [],
   "source": [
    "def factoriyel1(n):\n",
    "    fak=1\n",
    "    for x in range(1,n+1):\n",
    "        fak*=x\n",
    "    return fak\n",
    "factoriyel1(0)      "
   ]
  },
  {
   "cell_type": "markdown",
   "metadata": {},
   "source": [
    "# deep copy\n",
    "*Orijinal objeyi baska yeni bir objeye kopyalar ama orijinal obje degistirilirse yeni obje degismez."
   ]
  },
  {
   "cell_type": "code",
   "execution_count": 10,
   "metadata": {},
   "outputs": [
    {
     "name": "stdout",
     "output_type": "stream",
     "text": [
      "[[1, 2, 3], 1, 5, [6, 7, [5, 10], 8]]\n",
      "[[1, 2, 3], 1, 5, [6, 7, [9, 10], 8]]\n"
     ]
    }
   ],
   "source": [
    "import copy\n",
    "old_list=[[1,2,3],1,5,[6,7,[9,10],8]]\n",
    "new_list=copy.deepcopy(old_list)\n",
    "old_list[3][2][0]=5\n",
    "print(old_list)\n",
    "print(new_list)"
   ]
  },
  {
   "cell_type": "markdown",
   "metadata": {},
   "source": [
    "# Shallow copy\n",
    "*Orjinal onjeyi baska yeni bir objeye kopyalar ama orjinal obje degistirilirse yeni obje degisir."
   ]
  },
  {
   "cell_type": "code",
   "execution_count": 13,
   "metadata": {},
   "outputs": [
    {
     "name": "stdout",
     "output_type": "stream",
     "text": [
      "[[1, 2, 3], 1, 5, [6, 7, [5, 10], 8]]\n",
      "[[1, 2, 3], 1, 5, [6, 7, [5, 10], 8]]\n"
     ]
    }
   ],
   "source": [
    "old_list1=[[1,2,3],1,5,[6,7,[9,10],8]]\n",
    "new_list1=copy.copy(old_list1)\n",
    "old_list1[3][2][0]=5\n",
    "print(old_list1)\n",
    "print(new_list1)"
   ]
  },
  {
   "cell_type": "markdown",
   "metadata": {},
   "source": [
    "# liste and tuple "
   ]
  },
  {
   "cell_type": "code",
   "execution_count": 18,
   "metadata": {},
   "outputs": [
    {
     "name": "stdout",
     "output_type": "stream",
     "text": [
      "[1, 2, 6, 4, 5]\n"
     ]
    }
   ],
   "source": [
    "liste=[1,2,3,4,5]\n",
    "liste[2]=6\n",
    "print(liste)\n",
    "tuple=(1,2,3,4,5)\n",
    "#tuple[2]=6   #değistirilemez! hata verir."
   ]
  },
  {
   "cell_type": "markdown",
   "metadata": {},
   "source": [
    "# Help() and dir()\n",
    "*help() fonksiyonu dokumani string olarak sergiler.\n",
    "\n",
    "*dir() fonksiyonu istenilen objenintum ozelliklerini metotlarini sergiler. "
   ]
  },
  {
   "cell_type": "code",
   "execution_count": 22,
   "metadata": {},
   "outputs": [],
   "source": [
    "help(copy.copy)"
   ]
  },
  {
   "cell_type": "code",
   "execution_count": 21,
   "metadata": {},
   "outputs": [],
   "source": [
    "dir(copy.copy)"
   ]
  },
  {
   "cell_type": "markdown",
   "metadata": {},
   "source": [
    "# Dictionary\n",
    "*Icerisinde key-value ciftini barindiran kullanisli yapilardir."
   ]
  },
  {
   "cell_type": "code",
   "execution_count": 27,
   "metadata": {},
   "outputs": [
    {
     "name": "stdout",
     "output_type": "stream",
     "text": [
      "{'Izmir': 35, 'Erzurum': 25}\n",
      "<class 'dict'>\n"
     ]
    }
   ],
   "source": [
    "dictionary={\"Izmir\":35,\"Erzurum\":25}\n",
    "print(dictionary)\n",
    "print(type(dictionary))"
   ]
  },
  {
   "cell_type": "markdown",
   "metadata": {},
   "source": [
    "# Args ve kwargs \n",
    "*Bazi durumlarda fonksiyonlarin kac tane input alacagini bilemeyiz bu nedenle *args'i kullaniriz.\n",
    "\n",
    "*Kwargs ise dictionary gibi kullanilir."
   ]
  },
  {
   "cell_type": "code",
   "execution_count": 30,
   "metadata": {},
   "outputs": [],
   "source": [
    "def deneme(*args):\n",
    "    for each in args:\n",
    "        print(each)\n",
    "deneme(5,6,7)        "
   ]
  },
  {
   "cell_type": "code",
   "execution_count": 31,
   "metadata": {},
   "outputs": [
    {
     "name": "stdout",
     "output_type": "stream",
     "text": [
      "a 1\n",
      "b 2\n",
      "c 3\n"
     ]
    }
   ],
   "source": [
    "def deneme2(**kwargs):\n",
    "    for each in kwargs:\n",
    "        print(each,kwargs[each])\n",
    "deneme2(a=1,b=2,c=3)        "
   ]
  },
  {
   "cell_type": "code",
   "execution_count": 38,
   "metadata": {},
   "outputs": [
    {
     "name": "stdout",
     "output_type": "stream",
     "text": [
      "Positive index : 2\n",
      "Negative index : 9\n"
     ]
    }
   ],
   "source": [
    "#Positive and Negative index\n",
    "liste1=[1,2,6,5,4,9,8]\n",
    "print(\"Positive index :\",liste1[1])\n",
    "print(\"Negative index :\",liste1[-2])"
   ]
  },
  {
   "cell_type": "code",
   "execution_count": 47,
   "metadata": {},
   "outputs": [
    {
     "name": "stdout",
     "output_type": "stream",
     "text": [
      "shuffle : [7, 1, 8, 3, 5, 9, 2, 6, 4]\n",
      "sort : [1, 2, 3, 4, 5, 6, 7, 8, 9]\n"
     ]
    }
   ],
   "source": [
    "#Listeyi nasıl rastgele yapabilirim?\n",
    "myList=[9,8,7,6,5,4,3,2,1]\n",
    "from random import shuffle\n",
    "shuffle(myList)\n",
    "print(\"shuffle :\",myList)\n",
    "myList.sort()\n",
    "print(\"sort :\",myList)"
   ]
  },
  {
   "cell_type": "markdown",
   "metadata": {},
   "source": [
    "# Join() and split()"
   ]
  },
  {
   "cell_type": "code",
   "execution_count": 60,
   "metadata": {},
   "outputs": [
    {
     "name": "stdout",
     "output_type": "stream",
     "text": [
      "d.e.n.e.m.e\n",
      "['d', 'e', 'n', 'e', 'm', 'e']\n",
      "deneme\n"
     ]
    }
   ],
   "source": [
    "yeni=\".\".join(\"deneme\")\n",
    "print(yeni)\n",
    "first=yeni.split(\".\")\n",
    "print(first)\n",
    "j=\"\".join(first)\n",
    "print(j)"
   ]
  },
  {
   "cell_type": "code",
   "execution_count": 63,
   "metadata": {},
   "outputs": [
    {
     "name": "stdout",
     "output_type": "stream",
     "text": [
      "Muhendis \n",
      " Muhendis\n",
      "Muhendis\n"
     ]
    }
   ],
   "source": [
    "metin=\" Muhendis \"\n",
    "print(metin.lstrip()) #ondeki boslugu yok et\n",
    "print(metin.rstrip()) #arkadaki boslugu yok et\n",
    "print(metin.strip())  #ondeki ve arkadaki bosluklari yok et"
   ]
  },
  {
   "cell_type": "code",
   "execution_count": 65,
   "metadata": {},
   "outputs": [
    {
     "name": "stdout",
     "output_type": "stream",
     "text": [
      "MUHENDIS\n",
      "muhendis\n"
     ]
    }
   ],
   "source": [
    "metin=\"MUhendis\"\n",
    "print(metin.upper())\n",
    "print(metin.lower())"
   ]
  },
  {
   "cell_type": "code",
   "execution_count": 66,
   "metadata": {},
   "outputs": [],
   "source": [
    "#pass\n",
    "def metin():\n",
    "    pass"
   ]
  },
  {
   "cell_type": "code",
   "execution_count": 75,
   "metadata": {},
   "outputs": [
    {
     "name": "stdout",
     "output_type": "stream",
     "text": [
      "0\n",
      "1\n",
      "2\n"
     ]
    }
   ],
   "source": [
    "#break\n",
    "for each in range(5):\n",
    "    print(each)\n",
    "    if each==2:\n",
    "        break"
   ]
  },
  {
   "cell_type": "code",
   "execution_count": 78,
   "metadata": {},
   "outputs": [],
   "source": [
    "#continue\n",
    "for each in range(10):\n",
    "    print(each)\n",
    "    if each==5:\n",
    "        print(\"Boşluk\")\n",
    "        continue  "
   ]
  },
  {
   "cell_type": "code",
   "execution_count": 80,
   "metadata": {},
   "outputs": [
    {
     "name": "stdout",
     "output_type": "stream",
     "text": [
      "2.0\n",
      "1\n",
      "100\n",
      "20\n"
     ]
    }
   ],
   "source": [
    "print(10/5)\n",
    "print(10%3)\n",
    "print(10**2)\n",
    "print(10*2)"
   ]
  },
  {
   "cell_type": "code",
   "execution_count": 86,
   "metadata": {},
   "outputs": [
    {
     "data": {
      "text/plain": [
       "False"
      ]
     },
     "execution_count": 86,
     "metadata": {},
     "output_type": "execute_result"
    }
   ],
   "source": [
    "#Membership\n",
    "\"ai\" in \"datai\"         #true\n",
    "\"ai\" not in \"istanbul\"  #true\n",
    "\"ai\" in \"istanbul\"      #false"
   ]
  },
  {
   "cell_type": "markdown",
   "metadata": {},
   "source": [
    "# Ornekler"
   ]
  },
  {
   "cell_type": "code",
   "execution_count": 123,
   "metadata": {},
   "outputs": [],
   "source": [
    "#Kelimeyi tersten yazma\n",
    "def kelime(str):\n",
    "    return str[::-1]\n",
    "kelime(\"Muhendis\")"
   ]
  },
  {
   "cell_type": "code",
   "execution_count": 167,
   "metadata": {},
   "outputs": [],
   "source": [
    "def kelime1(str):\n",
    "    m=len(str)\n",
    "    print(m)\n",
    "    for x in range(1,m+1):\n",
    "        metin=str[m-x]\n",
    "        print(metin,end=\"\")  \n",
    "kelime1(\"melik\")  "
   ]
  },
  {
   "cell_type": "code",
   "execution_count": 177,
   "metadata": {},
   "outputs": [
    {
     "data": {
      "text/plain": [
       "'2:15'"
      ]
     },
     "execution_count": 177,
     "metadata": {},
     "output_type": "execute_result"
    }
   ],
   "source": [
    "#Saat cevirme\n",
    "import math\n",
    "def convertTime(num):\n",
    "    saat=int(math.floor(num/60))\n",
    "    dakika=num%60\n",
    "    return str(saat) + \":\" + str(dakika)\n",
    "convertTime(135)"
   ]
  },
  {
   "cell_type": "code",
   "execution_count": 201,
   "metadata": {},
   "outputs": [
    {
     "name": "stdout",
     "output_type": "stream",
     "text": [
      "Python Yazılım Dili\n",
      "ikinci durum : Python Yazılım Dili\n"
     ]
    }
   ],
   "source": [
    "def basHarfBuyukYap(str):\n",
    "    kelimler=str.split(\" \")\n",
    "    for i in range(0,len(kelimler)):\n",
    "        kelimler[i]=kelimler[i][0].upper()+kelimler[i][1:]\n",
    "    return \" \".join(kelimler)\n",
    "print(basHarfBuyukYap(\"python yazılım dili\"))\n",
    "deneme=\"python yazılım dili\"\n",
    "print(\"ikinci durum :\",deneme.title())"
   ]
  },
  {
   "cell_type": "code",
   "execution_count": 205,
   "metadata": {},
   "outputs": [
    {
     "data": {
      "text/plain": [
       "True"
      ]
     },
     "execution_count": 205,
     "metadata": {},
     "output_type": "execute_result"
    }
   ],
   "source": [
    "def harfKaristirma(str1,str2):\n",
    "    for i in str2:\n",
    "        if i not in str1:\n",
    "            return False\n",
    "    return True\n",
    "harfKaristirma(\"Ankara\",\"arakna\")"
   ]
  },
  {
   "cell_type": "code",
   "execution_count": 208,
   "metadata": {},
   "outputs": [
    {
     "data": {
      "text/plain": [
       "'2k1w3c2d4e'"
      ]
     },
     "execution_count": 208,
     "metadata": {},
     "output_type": "execute_result"
    }
   ],
   "source": [
    "def siklikBulma(string):\n",
    "    i=0\n",
    "    final_string=\"\"\n",
    "    while i<len(string):\n",
    "        c=string[i]\n",
    "        j=i+1\n",
    "        compressed=[1,c]\n",
    "        while j<len(string):\n",
    "            if string[j]==c:\n",
    "                compressed[0]+=1\n",
    "            else:\n",
    "                break\n",
    "            j+=1\n",
    "        final_string+=\"\".join(map(str,compressed))\n",
    "        i=j\n",
    "    return final_string\n",
    "siklikBulma(\"kkwcccddeeee\")"
   ]
  },
  {
   "cell_type": "code",
   "execution_count": 220,
   "metadata": {},
   "outputs": [
    {
     "data": {
      "text/plain": [
       "'2'"
      ]
     },
     "execution_count": 220,
     "metadata": {},
     "output_type": "execute_result"
    }
   ],
   "source": [
    "def kayipBasamak(string):\n",
    "    for i in range(10):\n",
    "        c=string.replace(\"x\",str(i))\n",
    "        x=string.index(\"=\")\n",
    "        if eval(c[:x])==eval(c[x+1:]):\n",
    "            return str(i)\n",
    "kayipBasamak(\"10-x=4\") \n",
    "kayipBasamak(\"25*x=50\")"
   ]
  },
  {
   "cell_type": "markdown",
   "metadata": {},
   "source": [
    "# Array Rotasyonu"
   ]
  },
  {
   "cell_type": "code",
   "execution_count": 232,
   "metadata": {},
   "outputs": [
    {
     "name": "stdout",
     "output_type": "stream",
     "text": [
      "23451\n"
     ]
    }
   ],
   "source": [
    "def rotateArray(array):\n",
    "    eski_baslangic=array[0]\n",
    "    yeni_baslangic=[str(array[eski_baslangic])]\n",
    "    count=eski_baslangic+1\n",
    "    length=len(array)\n",
    "    while count%length!= eski_baslangic:\n",
    "        yeni_baslangic.append(str(array[count%length]))\n",
    "        count+=1\n",
    "    return \"\".join(yeni_baslangic)\n",
    "print(rotateArray([1,2,3,4,5]))"
   ]
  },
  {
   "cell_type": "markdown",
   "metadata": {},
   "source": [
    "# Array Ciftleri"
   ]
  },
  {
   "cell_type": "code",
   "execution_count": 248,
   "metadata": {},
   "outputs": [
    {
     "name": "stdout",
     "output_type": "stream",
     "text": [
      "OK\n"
     ]
    }
   ],
   "source": [
    "def arrayCouple(array):\n",
    "    new=\"\"\n",
    "    for k in range(len(array)):\n",
    "        new+=str(array[k]) + \" \" \n",
    "        if k%2==1:\n",
    "            new +=\",\"\n",
    "    new=new.split(\" ,\")\n",
    "    depo=[]\n",
    "    for j in new:\n",
    "        if j[::-1] not in new:\n",
    "            for l in j.split():\n",
    "                depo.append(l)\n",
    "        elif j==j[::-1] and new.count(j)<2:\n",
    "            for l in j.split():\n",
    "                depo.append(l)\n",
    "    if depo==[]:\n",
    "        return \"OK\"\n",
    "    return \"\".join(depo)  \n",
    "print(arrayCouple([5,6,6,5,3,3,3,3,4,5,5,4]))"
   ]
  }
 ],
 "metadata": {
  "kernelspec": {
   "display_name": "Python 3",
   "language": "python",
   "name": "python3"
  },
  "language_info": {
   "codemirror_mode": {
    "name": "ipython",
    "version": 3
   },
   "file_extension": ".py",
   "mimetype": "text/x-python",
   "name": "python",
   "nbconvert_exporter": "python",
   "pygments_lexer": "ipython3",
   "version": "3.7.4"
  }
 },
 "nbformat": 4,
 "nbformat_minor": 2
}
